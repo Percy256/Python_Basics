{
 "cells": [
  {
   "cell_type": "code",
   "execution_count": 26,
   "id": "97736b66",
   "metadata": {},
   "outputs": [
    {
     "name": "stdout",
     "output_type": "stream",
     "text": [
      "Empty DataFrame\n",
      "Columns: []\n",
      "Index: []\n"
     ]
    }
   ],
   "source": [
    "#Output an empy data frame\n",
    "import pandas as pd\n",
    "df= pd.DataFrame()\n",
    "print(df)"
   ]
  },
  {
   "cell_type": "code",
   "execution_count": 27,
   "id": "34ab80cc",
   "metadata": {},
   "outputs": [
    {
     "name": "stdout",
     "output_type": "stream",
     "text": [
      "       Monday     Tuesday   Wednesday    Thursday      Friday\n",
      "0  2023-07-03  2023-07-04  2023-07-05  2023-07-06  2023-07-07\n"
     ]
    }
   ],
   "source": [
    "import pandas as pd\n",
    "mydays={\n",
    "    'Monday': ['2023-07-03'],\n",
    "    'Tuesday': ['2023-07-04'],\n",
    "    'Wednesday': ['2023-07-05'],\n",
    "    'Thursday': ['2023-07-06'],\n",
    "    'Friday': ['2023-07-07']\n",
    "}\n",
    "df= pd.DataFrame(mydays)\n",
    "print(df)"
   ]
  },
  {
   "cell_type": "code",
   "execution_count": 32,
   "id": "3d211551",
   "metadata": {},
   "outputs": [
    {
     "name": "stdout",
     "output_type": "stream",
     "text": [
      "Monday     [2023-07-03]\n",
      "Tuesday    [2023-07-04]\n",
      "dtype: object\n"
     ]
    }
   ],
   "source": [
    "import pandas as pd\n",
    "selected_data={}\n",
    "for key, value in mydays.items():\n",
    "    if key in ['Monday', 'Tuesday']:\n",
    "        selected_data[key]= value\n",
    "    \n",
    "myseries= pd.Series(selected_data)\n",
    "print(myseries)"
   ]
  },
  {
   "cell_type": "code",
   "execution_count": 10,
   "id": "54db86bd",
   "metadata": {},
   "outputs": [
    {
     "name": "stdout",
     "output_type": "stream",
     "text": [
      "     names   snames  age\n",
      "0    Peter     Josh   20\n",
      "1     Jeff     Mark   30\n",
      "2     John  Collins   40\n",
      "3  Phillip    Agaba   50\n"
     ]
    }
   ],
   "source": [
    "mydataset={\n",
    "    'names': ['Peter', 'Jeff', 'John', 'Phillip'],\n",
    "    'snames': ['Josh', 'Mark', 'Collins', 'Agaba'],\n",
    "    'age': [20, 30, 40, 50]\n",
    "}\n",
    "df= pd.DataFrame(mydataset)\n",
    "print(df)\n"
   ]
  },
  {
   "cell_type": "code",
   "execution_count": 31,
   "id": "13474936",
   "metadata": {},
   "outputs": [
    {
     "name": "stdout",
     "output_type": "stream",
     "text": [
      "     mon    tues\n",
      "0  first  second\n"
     ]
    }
   ],
   "source": [
    "abc= {\n",
    "    'mon': ['first'],\n",
    "    'tues': ['second'],\n",
    "}\n",
    "df= pd.DataFrame(abc)\n",
    "print(df)"
   ]
  }
 ],
 "metadata": {
  "kernelspec": {
   "display_name": "Python 3 (ipykernel)",
   "language": "python",
   "name": "python3"
  },
  "language_info": {
   "codemirror_mode": {
    "name": "ipython",
    "version": 3
   },
   "file_extension": ".py",
   "mimetype": "text/x-python",
   "name": "python",
   "nbconvert_exporter": "python",
   "pygments_lexer": "ipython3",
   "version": "3.9.13"
  }
 },
 "nbformat": 4,
 "nbformat_minor": 5
}
